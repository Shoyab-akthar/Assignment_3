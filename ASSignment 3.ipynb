{
 "cells": [
  {
   "cell_type": "code",
   "execution_count": 7,
   "metadata": {},
   "outputs": [
    {
     "name": "stdout",
     "output_type": "stream",
     "text": [
      "20\n"
     ]
    }
   ],
   "source": [
    "# game of functions\n",
    "def sum_of_elements(input_list):\n",
    "    return sum(input_list)\n",
    "sample_list = (8, 2, 3, 0, 7)\n",
    "result = sum_of_elements(sample_list)\n",
    "print(result)"
   ]
  },
  {
   "cell_type": "code",
   "execution_count": 1,
   "metadata": {},
   "outputs": [
    {
     "name": "stdout",
     "output_type": "stream",
     "text": [
      "SAMPLE STRING: 1234abcd\n",
      "EXPECTED OUTPUT dcba4321\n"
     ]
    }
   ],
   "source": [
    "#string inside the function\n",
    "def reverse_string():               \n",
    "    value=input(\"enter a string\")  \n",
    "    print(\"SAMPLE STRING:\",value)   \n",
    "    reverse=value[::-1]                 \n",
    "    print(\"EXPECTED OUTPUT\",reverse)  \n",
    "reverse_string()   "
   ]
  },
  {
   "cell_type": "code",
   "execution_count": 2,
   "metadata": {},
   "outputs": [
    {
     "name": "stdout",
     "output_type": "stream",
     "text": [
      "SAMPLE STRING: The quick Brow Fox\n",
      "NO OF LOWER CASE CHARACTERS: 12\n",
      "NO OF UPPER CASE CHARACTERS: 3\n"
     ]
    }
   ],
   "source": [
    "#counting lower, upper\n",
    "def name():     \n",
    "    string=input(\"ENTER A STRING:\")  \n",
    "    print(\"SAMPLE STRING:\",string)   \n",
    "    lower=0                      \n",
    "    upper=0                    \n",
    "    for i in range (len(string)):    \n",
    "        if string[i].islower():       \n",
    "            lower+=1\n",
    "        \n",
    "        elif string[i].isupper():      \n",
    "            upper+=1\n",
    "    print(\"NO OF LOWER CASE CHARACTERS:\",lower)   \n",
    "    print(\"NO OF UPPER CASE CHARACTERS:\",upper)\n",
    "name() "
   ]
  }
 ],
 "metadata": {
  "kernelspec": {
   "display_name": "Python 3",
   "language": "python",
   "name": "python3"
  },
  "language_info": {
   "codemirror_mode": {
    "name": "ipython",
    "version": 3
   },
   "file_extension": ".py",
   "mimetype": "text/x-python",
   "name": "python",
   "nbconvert_exporter": "python",
   "pygments_lexer": "ipython3",
   "version": "3.11.5"
  },
  "orig_nbformat": 4
 },
 "nbformat": 4,
 "nbformat_minor": 2
}
